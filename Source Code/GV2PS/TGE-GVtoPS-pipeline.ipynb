{
 "cells": [
  {
   "cell_type": "code",
   "execution_count": 1,
   "id": "ca79f1d3",
   "metadata": {},
   "outputs": [],
   "source": [
    "import numpy as np\n",
    "import cldnufuncs as cfunc\n",
    "import matplotlib.pyplot as plt\n",
    "import spherical_bin as sp\n",
    "import window as win\n",
    "import pkfuncs as pfunc"
   ]
  },
  {
   "cell_type": "code",
   "execution_count": 2,
   "id": "8ce36611",
   "metadata": {},
   "outputs": [],
   "source": [
    "path = '.' # path to the Gridded visibilities.\n",
    "\n",
    "\n",
    "Ncores = 20\n",
    "Nmg = 10 # Number of realizations for Mg\n",
    "\n",
    "# inputs\n",
    "nc = 10 # nc is always used for total channels\n",
    "NC = 1 # no. of channels to collapse\n",
    "xn = 0 # no. of grids to exclude from from each sides of the gridded data.\n",
    "na = nc//NC # No. of channels available after collapse.\n",
    "\n",
    "# header\n",
    "headersize = (nc+3)*np.float64().itemsize\n",
    "hinfo = cfunc.read_header(str(path)+'/GV-data', headersize, nc)\n",
    "hinfo = np.asarray(hinfo, dtype='object')\n",
    "np.save(str(path)+'/hinfo', hinfo)\n",
    "\n"
   ]
  },
  {
   "cell_type": "code",
   "execution_count": 3,
   "id": "152cd72f",
   "metadata": {},
   "outputs": [
    {
     "name": "stdout",
     "output_type": "stream",
     "text": [
      "eg estimated. \n",
      "\n"
     ]
    }
   ],
   "source": [
    "# eg    \n",
    "eg1 = cfunc.func_cldnu_multi(str(path)+'/GV-data', nc, NC, xn, Ncores) \n",
    "np.save(str(path)+'/eg', eg1) # unnormalized estimate, can be normalized with Mg.\n",
    "\n",
    "print('eg estimated. \\n')"
   ]
  },
  {
   "cell_type": "code",
   "execution_count": 4,
   "id": "960f5336",
   "metadata": {},
   "outputs": [
    {
     "name": "stdout",
     "output_type": "stream",
     "text": [
      "Mg done for Re 1\n",
      "Mg done for Re 2\n",
      "Mg done for Re 3\n",
      "Mg done for Re 4\n",
      "Mg done for Re 5\n",
      "Mg done for Re 6\n",
      "Mg done for Re 7\n",
      "Mg done for Re 8\n",
      "Mg done for Re 9\n",
      "Mg done for Re 10\n",
      "Mg estimated. \n",
      "\n"
     ]
    }
   ],
   "source": [
    "# Mg, save the GV-mg as GV-mg-1, GV-mg-2 etc. \n",
    "\n",
    "mg = np.zeros_like(eg1)\n",
    "\n",
    "for ii in range(Nmg):\n",
    "    mg += cfunc.func_cldnu_multi(str(path)+'/GV-mg-'+str(ii+1), nc, NC, xn, Ncores)\n",
    "    print('Mg done for Re '+str(ii+1))\n",
    "mg /= Nmg\n",
    "np.save(str(path)+'/mg', mg) # unnormalized estimate, can be normalized with Mg.\n",
    "print('Mg estimated. \\n')"
   ]
  },
  {
   "cell_type": "code",
   "execution_count": 5,
   "id": "d0d9e55c",
   "metadata": {},
   "outputs": [],
   "source": [
    "# # 1. Noise in a grid: estimate noise in a grid for all realizations and save them\n",
    "# Nnoise = 10 # Number of realizations for noise.\n",
    "# for ii in range(Nnoise):\n",
    "#     egn = cfunc.func_cldnu_multi(str(path)+'/GV-noise-'+str(ii+1), nc, NC, xn, Ncores)\n",
    "#     np.save(str(path)+'/eg-noise/egn-'+str(ii+1), egn) # unnormalized estimate, can be normalized with Mg.\n",
    "#     print('Noise done for Re '+str(ii+1)) # kept at a directory \"eg-noise\"\n",
    "\n",
    "# print('Noise estimated in grids. \\n')\n"
   ]
  },
  {
   "cell_type": "markdown",
   "id": "c78c3867",
   "metadata": {},
   "source": [
    "# cl and PS calculations"
   ]
  },
  {
   "cell_type": "code",
   "execution_count": 6,
   "id": "8a3614af",
   "metadata": {},
   "outputs": [],
   "source": [
    "FWHM, dUg, f, nua = np.load('./hinfo.npy', allow_pickle=True)\n",
    "eg = np.load('./eg.npy')\n",
    "mg = np.load('./mg.npy') # mg = 800 Nrea. \n",
    "\n",
    "# eg to cl, binning parameters \n",
    "U1, U2, NBin = 0, 400, 4\n",
    "\n",
    "# binning\n",
    "el = cfunc.func_bincl(eg, dUg, U1, U2, NBin)\n",
    "ml = cfunc.func_bincl(mg, dUg, U1, U2, NBin)\n",
    "cl = el/ml # estimated cl (in a bin)\n",
    "\n",
    "\n",
    "# # 2. Noise in a bin: read each realization from grid, bin them individually\n",
    "# cln1 = np.zeros((Nrea, NBin, nc))\n",
    "# for ii in range(Nnoise):\n",
    "#     eln = np.load(str(path)+'/eg-noise/egn-'+str(ii+1)+'.npy')\n",
    "#     cln1[ii] = cfunc.func_bincl(eln, dUg, U1, U2, NBin)/ml # normalized\n",
    "# cln = np.std(cln1, axis=0)/np.sqrt(Nnoise)\n",
    "cln = np.ones((NBin, nc)) # unit noise (when you have no noise estimates)\n",
    "\n",
    "lb = cfunc.mk_lin_bin(mg, dUg, U1, U2, NBin)[0]*2.*np.pi # estimated ell (in a bin)\n",
    "ell = np.intc(lb)\n",
    "nell = len(ell)\n",
    "\n",
    "clinfo = np.empty(3, dtype='object')\n",
    "clinfo[:3] = cl, cln, lb\n",
    "np.save('clinfo.npy', clinfo) # all you need for PS"
   ]
  },
  {
   "cell_type": "code",
   "execution_count": 7,
   "id": "79c01380",
   "metadata": {},
   "outputs": [
    {
     "data": {
      "image/png": "[encoded data removed]",
      "text/plain": [
       "<Figure size 432x288 with 1 Axes>"
      ]
     },
     "metadata": {
      "needs_background": "light"
     },
     "output_type": "display_data"
    }
   ],
   "source": [
    "for ii in range(nell):\n",
    "    plt.plot(cl[ii])"
   ]
  },
  {
   "cell_type": "code",
   "execution_count": null,
   "id": "868e6e38",
   "metadata": {},
   "outputs": [],
   "source": []
  },
  {
   "cell_type": "markdown",
   "id": "2aec7c1e",
   "metadata": {},
   "source": [
    "# PS"
   ]
  },
  {
   "cell_type": "code",
   "execution_count": 9,
   "id": "55a4123e",
   "metadata": {},
   "outputs": [],
   "source": [
    "# read cl\n",
    "cl, cln, lb = np.load('clinfo.npy', allow_pickle='True') # cl, cl-error, ell\n",
    "FWHM, dUg, f, nua = np.load('./hinfo.npy', allow_pickle=True)\n"
   ]
  },
  {
   "cell_type": "code",
   "execution_count": 10,
   "id": "20051792",
   "metadata": {},
   "outputs": [],
   "source": [
    "# CL \n",
    "\n",
    "nc = cl.shape[-1]\n",
    "nuc = nua.mean()/1e6 # nu_c\n",
    "dnuc = abs(nua[1]-nua[0])/1e6 # delta-nu-c MHz\n",
    "dnu = np.arange(nc)*dnuc # MHz\n",
    "ell = np.intc(lb)\n",
    "nell = len(ell)\n",
    "\n",
    "# PS\n",
    "r, rp = 5703, 9.85 # Mpc (Planck 2018) # z = 2.28\n",
    "fac = r/(rp*nuc) # wedge boundary: kpara_H = fac*kper \n",
    "dkl = np.ones(nell)*1. # fixed buffer\n",
    "# dkl[:] = np.array([0.5, 1.4, 1.0, 1.3, 0.02, 1., 1., 1., 1.2, 1.2]) #  # individual buffer for a kper-bin\n",
    "\n",
    "vfac = rp*r*r*dnuc*(nc-1) # DCT factor \n",
    "kper = ell/r\n",
    "kpara = 2.*np.pi*np.arange(nc)/(rp*(2.*nc-2.)*dnuc)\n",
    "covi = 1/cln**2 # noise variance inverse \n",
    "\n",
    "\n",
    "# window for Fourier transform\n",
    "w = win.window('BN', np.arange(nc))\n"
   ]
  },
  {
   "cell_type": "code",
   "execution_count": 11,
   "id": "8fea9694",
   "metadata": {},
   "outputs": [],
   "source": [
    "pk = pfunc.func_pk(cl, w, covi, vfac) # MLE cylindrical PS P(kper, kpara) estimation\n"
   ]
  },
  {
   "cell_type": "code",
   "execution_count": 12,
   "id": "8312cac6",
   "metadata": {},
   "outputs": [
    {
     "data": {
      "text/plain": [
       "[<matplotlib.lines.Line2D at 0x7f105d6dd7c0>]"
      ]
     },
     "execution_count": 12,
     "metadata": {},
     "output_type": "execute_result"
    },
    {
     "data": {
      "image/png": "[encoded data removed]",
      "text/plain": [
       "<Figure size 432x288 with 2 Axes>"
      ]
     },
     "metadata": {
      "needs_background": "light"
     },
     "output_type": "display_data"
    }
   ],
   "source": [
    "# A not-so-decent plot of cylindrical PS\n",
    "from matplotlib.colors import LogNorm\n",
    "y, x = np.meshgrid(kpara, kper)\n",
    "plt.pcolormesh(x, y, abs(pk)*1e6, norm = LogNorm(), shading='auto', cmap='coolwarm')\n",
    "plt.colorbar()\n",
    "\n",
    "plt.xscale('log')\n",
    "plt.yscale('log')\n",
    "plt.plot(kper, fac*kper, 'k-')\n",
    "plt.plot(kper, fac*kper + dkl, 'k--')"
   ]
  },
  {
   "cell_type": "code",
   "execution_count": null,
   "id": "893a0db7",
   "metadata": {},
   "outputs": [],
   "source": []
  },
  {
   "cell_type": "code",
   "execution_count": null,
   "id": "a91ad78b",
   "metadata": {},
   "outputs": [],
   "source": [
    "# Spherically averaged PS (Not MLE) \n",
    "NB = 6 # spherial bins\n",
    "pks, kb, num = binpk(pk,kper,kpara,dkl,fac,NB)"
   ]
  },
  {
   "cell_type": "code",
   "execution_count": null,
   "id": "68314b6a",
   "metadata": {},
   "outputs": [],
   "source": []
  },
  {
   "cell_type": "code",
   "execution_count": null,
   "id": "5c16d3ba",
   "metadata": {},
   "outputs": [],
   "source": [
    "# Spherical PS (MLE, Elahi et al. 2023 (under review))\n",
    "\n",
    "AM, kk = sp.calc_AM(kper,kpara,dkl,fac,NB)\n",
    "\n",
    "# covi = np.ones((nell, nc))\n",
    "X, COV1 = sp.func_PE(AM, cl.flatten(), np.diag(covi.flatten()), NB, vfac) # p and COV\n",
    "pp, COV = X[:NB], COV1[:NB, :NB]\n",
    "\n",
    "# upper-limit\n",
    "dTC1, ddTC1, ulC1 = sp.func_dT(kk, pp, COV) # \n",
    "kk,  np.sqrt(dTC1), np.sqrt(ddTC1), np.sqrt(ulC1), dTC1/ddTC1 # SNR\n"
   ]
  },
  {
   "cell_type": "code",
   "execution_count": null,
   "id": "98f9bd52",
   "metadata": {},
   "outputs": [],
   "source": []
  }
 ],
 "metadata": {
  "kernelspec": {
   "display_name": "Python 3 (ipykernel)",
   "language": "python",
   "name": "python3"
  },
  "language_info": {
   "codemirror_mode": {
    "name": "ipython",
    "version": 3
   },
   "file_extension": ".py",
   "mimetype": "text/x-python",
   "name": "python",
   "nbconvert_exporter": "python",
   "pygments_lexer": "ipython3",
   "version": "3.8.5"
  }
 },
 "nbformat": 4,
 "nbformat_minor": 5
}
